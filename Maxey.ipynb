{
 "cells": [
  {
   "cell_type": "code",
   "execution_count": null,
   "metadata": {},
   "outputs": [],
   "source": [
    "using Plots\n",
    "using LaTeXStrings\n",
    "using GLMakie\n",
    "using Distributions, Random\n",
    "using LinearAlgebra\n",
    "# using ProfileVega\n",
    "# using Traceur"
   ]
  },
  {
   "attachments": {},
   "cell_type": "markdown",
   "metadata": {},
   "source": [
    "# Parameters"
   ]
  },
  {
   "cell_type": "code",
   "execution_count": null,
   "metadata": {},
   "outputs": [],
   "source": [
    "set_zero_subnormals(true)"
   ]
  },
  {
   "cell_type": "code",
   "execution_count": null,
   "metadata": {},
   "outputs": [],
   "source": [
    "const global U0 = 10\n",
    "const global a = 2\n",
    "\n",
    "const N = 1000\n",
    "const global xmax = 6\n",
    "const global xmin = -6\n",
    "const global ymax = 6\n",
    "const global ymin = -6\n",
    "const global G = [0, -9.81];\n",
    "# FLUID\n",
    "ρ = 997\n",
    "μ = 1e-3\n",
    "const global k_b = 1.3806490e-23"
   ]
  },
  {
   "cell_type": "code",
   "execution_count": null,
   "metadata": {},
   "outputs": [],
   "source": [
    "function Stokes(d)\n",
    "    return ρ_d * (d^2) / (18 * μ) * U0 / 6\n",
    "end\n",
    "\n",
    "function invStokes(St)\n",
    "    return sqrt(18 * St * μ * 6 / (U0 * ρ_d))\n",
    "end"
   ]
  },
  {
   "attachments": {},
   "cell_type": "markdown",
   "metadata": {},
   "source": [
    "# Functions "
   ]
  },
  {
   "cell_type": "code",
   "execution_count": null,
   "metadata": {},
   "outputs": [],
   "source": [
    "function RungeKutta(fun, t0, tn, dt, y0, checkFun)\n",
    "    y = []\n",
    "    push!(y, y0)\n",
    "\n",
    "    steps = round(Int, (tn - t0) / dt)\n",
    "    for i in 1:steps\n",
    "        k1 = dt .* fun(checkFun(y[i]))\n",
    "        k2 = dt .* fun(checkFun(y[i] .+ k1 ./ 2))\n",
    "        k3 = dt .* fun(checkFun(y[i] .+ k2 ./ 2))\n",
    "        k4 = dt .* fun(checkFun(y[i] .+ k3))\n",
    "        k = (k1 + 2 * k2 + 2 * k3 + k4) / 6\n",
    "        push!(y, checkFun(y[i] + k))\n",
    "    end\n",
    "    return y\n",
    "end\n",
    "\n",
    "function RK4systems(f, g, t0, tn, dt, y0, V0, checkFun)\n",
    "    #    RK4systems(dxdtP, dvdtP, t0, tend, dt, points, V0);\n",
    "    x = Vector{Matrix{Float64}}(undef, 0)\n",
    "    v = Vector{Matrix{Float64}}(undef, 0)\n",
    "\n",
    "    k1 = zeros(size(y0))\n",
    "    k2 = zeros(size(y0))\n",
    "    k3 = zeros(size(y0))\n",
    "    k4 = zeros(size(y0))\n",
    "\n",
    "    l1 = zeros(size(V0))\n",
    "    l2 = zeros(size(V0))\n",
    "    l3 = zeros(size(V0))\n",
    "    l4 = zeros(size(V0))\n",
    "\n",
    "    push!(x, y0)\n",
    "    push!(v, V0)\n",
    "    steps = round(Int, (tn - t0) / dt)\n",
    "    for i in 1:steps\n",
    "        f(k1, x[i], v[i])\n",
    "        g(l1, x[i], v[i])\n",
    "\n",
    "        f(k2, x[i] .+ (k1 ./ 2), v[i] .+ l1 ./ 2)\n",
    "        g(l2, x[i] .+ (k1 ./ 2), v[i] .+ l1 ./ 2)\n",
    "\n",
    "        f(k3, x[i] .+ (k2 ./ 2), v[i] .+ l2 ./ 2)\n",
    "        g(l3, x[i] .+ (k2 ./ 2), v[i] .+ l2 ./ 2)\n",
    "\n",
    "        f(k4, x[i] .+ k3, v[i] .+ l3)\n",
    "        g(l4, x[i] .+ k3, v[i] .+ l3)\n",
    "\n",
    "        k = (k1 .+ 2 .* k2 .+ 2 .* k3 .+ k4) ./ 6\n",
    "        l = (l1 .+ 2 .* l2 .+ 2 .* l3 .+ l4) ./ 6\n",
    "        push!(x, checkFun(x[i] + k, v[i] + l)[1])\n",
    "\n",
    "        push!(v, v[i] + l)\n",
    "        if any(isnan, x[i])\n",
    "            println(\"Blew UP at $i\")\n",
    "            break\n",
    "        end\n",
    "        println(maximum(x[i+1] - x[i])^2)\n",
    "    end\n",
    "    return x\n",
    "end\n",
    "\n",
    "function meshgrid(x, y)\n",
    "    X = [i for i in x, j in 1:length(y)]\n",
    "    Y = [j for i in 1:length(x), j in y]\n",
    "\n",
    "    return cat(X, Y, dims=3)\n",
    "end\n",
    "\n",
    "function Pressure(coord, vfun)\n",
    "    U = vfun(points)\n",
    "    @views u = U[1, :]\n",
    "    @views v = U[2, :]\n",
    "    return @. 0.5ρ * U0^2 - 0.5ρ * (u^2 + v^2)\n",
    "end\n",
    "\n",
    "function isoPsi(C, tol, zs, xs, ys, N)\n",
    "    sols = []\n",
    "    for i in 1:N\n",
    "        for j in 1:N\n",
    "            if abs(zs[i, j] - C) < tol\n",
    "                push!(sols, [xs[i], ys[j]])\n",
    "            end\n",
    "        end\n",
    "    end\n",
    "    return sols\n",
    "end\n",
    "\n",
    "function dxdtP!(DX, points, V)\n",
    "    DX[:] = dt .* V\n",
    "    nothing\n",
    "end\n",
    "\n",
    "function Knudsen(coord)\n",
    "    L = R\n",
    "    p = 0.5ρ * U0^2 * ones(size(coord))\n",
    "    Kn = @. k_b * T / (sqrt(2) * π * d_p^2 * p * L)\n",
    "    return Kn\n",
    "end\n",
    "\n",
    "function Brownian(coord, V)\n",
    "    d = Normal(0, 1)\n",
    "    Gaussian = rand(d, size(coord))\n",
    "\n",
    "    Kn = Knudsen(coord)\n",
    "    C_c = @. 1 / (1 + Kn * (2.49 + 0.84 * exp(-1.74 / Kn)))\n",
    "    S = @. 216 * (μ / ρ) * k_b * T / ((π^2) * rhoDisp * (d_p^5) * (rhoDisp / ρ)^2 * C_c)\n",
    "\n",
    "    f_t = @. massP * Gaussian * sqrt(π * S / dt)\n",
    "    return @. (f_t) / massP\n",
    "end\n",
    "\n",
    "function periodic(x, V)\n",
    "    return (mod.(-(6 .- (x)), 12) .- 6), V\n",
    "end\n",
    "\n",
    "function periodic(x)\n",
    "    return (mod.(-(6 .- (x)), 12) .- 6)\n",
    "end"
   ]
  },
  {
   "attachments": {},
   "cell_type": "markdown",
   "metadata": {},
   "source": [
    "### Plotting"
   ]
  },
  {
   "cell_type": "code",
   "execution_count": null,
   "metadata": {},
   "outputs": [],
   "source": [
    "function plotTrajcecotries(trajs, timer, fieldContour, colors, markers, tit, divider)\n",
    "    xs = Vector{Observable{Vector{Float64}}}(undef, size(trajs))\n",
    "    ys = Vector{Observable{Vector{Float64}}}(undef, size(trajs))\n",
    "    for i in 1:size(trajs)[1]\n",
    "        xs[i] = Observable(trajs[i][1][1, :])\n",
    "        ys[i] = Observable(trajs[i][1][2, :])\n",
    "    end\n",
    "\n",
    "    title = Observable(L\"%$tit $t = %$(timer[1]) $\")\n",
    "\n",
    "    fig = GLMakie.Figure()\n",
    "    display(fig)\n",
    "    ax = Axis(fig[1, 1])\n",
    "\n",
    "    GLMakie.contourf!(x, y, fieldContour, levels=20, color=:turbo)\n",
    "\n",
    "    for i in 1:size(trajs)[1]\n",
    "        GLMakie.scatter!(xs[i], ys[i], color=colors[i], marker=markers[i], strokewidth=2e-4)\n",
    "    end\n",
    "\n",
    "    Label(fig[1, 1, Top()], title, padding=(0, 0, 10, 0))\n",
    "    Colorbar(fig[1, 2]; label=L\"Ψ\")\n",
    "\n",
    "    steps = 10e100\n",
    "    for i in 1:size(trajs)[1]\n",
    "        if size(trajs[i])[1] < steps\n",
    "            steps = size(trajs[i])[1]\n",
    "        end\n",
    "    end\n",
    "    framerate = round(Int, steps / divider)\n",
    "    for i in 1:framerate:steps\n",
    "        sleep(1 / 30)\n",
    "        title[] = L\"%$tit $t = %$(timer[i]) $\"\n",
    "        for j in 1:size(trajs)[1]\n",
    "            patching = size(trajs[j][1][1, :])[1] - size(trajs[j][i][1, :])[1]\n",
    "            xs[j][] = vcat(trajs[j][i][1, :], (2 * xmax) .* ones(patching))\n",
    "            ys[j][] = vcat(trajs[j][i][2, :], (2 * ymax) .* ones(patching))\n",
    "        end\n",
    "    end\n",
    "end\n",
    "\n",
    "function saveTrajcecotries(trajs, timer, fieldContour, colors, markers, tit, filename, divider)\n",
    "    xs = Vector{Observable{Vector{Float64}}}(undef, size(trajs))\n",
    "    ys = Vector{Observable{Vector{Float64}}}(undef, size(trajs))\n",
    "    cur_colors = theme_palette(:auto)\n",
    "    for i in 1:size(trajs)[1]\n",
    "        xs[i] = Observable(trajs[i][1][1, :])\n",
    "        ys[i] = Observable(trajs[i][1][2, :])\n",
    "    end\n",
    "    title = Observable(L\"$tit $t = %$(timer[1]) $\")\n",
    "\n",
    "    fig = GLMakie.Figure()\n",
    "    display(fig)\n",
    "    ax = Axis(fig[1, 1])\n",
    "\n",
    "    GLMakie.contourf!(x, y, fieldContour, levels=20, color=:turbo)\n",
    "\n",
    "    for i in 1:size(trajs)[1]\n",
    "        GLMakie.scatter!(xs[i], ys[i], color=colors[i], marker=markers[i], strokewidth=2e-4)\n",
    "    end\n",
    "\n",
    "    Label(fig[1, 1, Top()], title, padding=(0, 0, 10, 0))\n",
    "    Colorbar(fig[1, 2]; label=L\"Ψ\")\n",
    "\n",
    "    steps = 10e100\n",
    "    for i in 1:size(trajs)[1]\n",
    "        if size(trajs[i])[1] < steps\n",
    "            steps = size(trajs[i])[1]\n",
    "        end\n",
    "    end\n",
    "    timestamps = 1:round(Int, steps / divider):steps\n",
    "\n",
    "    record(fig, \"$filename.mp4\", timestamps; framerate=30) do i\n",
    "        title[] = L\"%$tit $t = %$(timer[i]) $\"\n",
    "        for j in 1:size(trajs)[1]\n",
    "            patching = size(trajs[j][1][1, :])[1] - size(trajs[j][i][1, :])[1]\n",
    "            xs[j][] = vcat(trajs[j][i][1, :], (2 * xmax) .* ones(patching))\n",
    "            ys[j][] = vcat(trajs[j][i][2, :], (2 * ymax) .* ones(patching))\n",
    "        end\n",
    "    end\n",
    "end\n",
    "\n",
    "colors = [:red, :blue, :green];\n",
    "markers = [:x, :circle, :circle];"
   ]
  },
  {
   "attachments": {},
   "cell_type": "markdown",
   "metadata": {},
   "source": [
    "# Maxey Streamline Function Field"
   ]
  },
  {
   "cell_type": "code",
   "execution_count": null,
   "metadata": {},
   "outputs": [],
   "source": [
    "function laplacianField(coord)\n",
    "    @views x = coord[1, :]\n",
    "    @views y = coord[2, :]\n",
    "    return @fastmath @. a * U0 * sin(x / a) * sin(y / a)\n",
    "end\n",
    "\n",
    "function vFluid(coord)\n",
    "    @views x = coord[1, :]\n",
    "    @views y = coord[2, :]\n",
    "    @fastmath u = @. U0 * sin(x / a) * cos(y / a)\n",
    "    @fastmath v = @. -U0 * cos(x / a) * sin(y / a)\n",
    "\n",
    "    U = hcat(u, v)'\n",
    "    return U\n",
    "end\n",
    "\n",
    "function gradVFluid!(u_x,u_y,v_x,v_y, coord)\n",
    "    @views x = coord[1, :]\n",
    "    @views y = coord[2, :]\n",
    "    @fastmath u_x[:] = @. (U0 / a) * cos.(x / a) * cos.(y / a)\n",
    "    @fastmath u_y[:] = @. (-U0 / a) * sin.(x / a) * sin.(y / a)\n",
    "\n",
    "    @fastmath v_x[:] = @. (U0 / a) * sin.(x / a) * sin.(y / a)\n",
    "    @fastmath v_y[:] = @. (-U0 / a) * cos.(x / a) * cos.(y / a)\n",
    "\n",
    "    nothing\n",
    "end\n",
    "\n",
    "function laplacianField!(Ψ,coord)\n",
    "    @views x = coord[1, :]\n",
    "    @views y = coord[2, :]\n",
    "    Ψ[:] =@fastmath @. a * U0 * sin(x / a) * sin(y / a)\n",
    "    nothing\n",
    "end\n",
    "\n",
    "function vFluid!(U,coord)\n",
    "    @views x = coord[1, :]\n",
    "    @views y = coord[2, :]\n",
    "    @fastmath u = @. U0 * sin(x / a) * cos(y / a)\n",
    "    @fastmath v = @. -U0 * cos(x / a) * sin(y / a)\n",
    "\n",
    "    U[:] = hcat(u, v)'\n",
    "    nothing\n",
    "end\n",
    "\n",
    "function gradVFluid!(gU,coord)\n",
    "    @views x = coord[1, :]\n",
    "    @views y = coord[2, :]\n",
    "    @fastmath u_x = @. (U0 / a) * cos.(x / a) * cos.(y / a)\n",
    "    @fastmath u_y = @. (-U0 / a) * sin.(x / a) * sin.(y / a)\n",
    "\n",
    "    @fastmath v_x = @. (U0 / a) * sin.(x / a) * sin.(y / a)\n",
    "    @fastmath v_y = @. (-U0 / a) * cos.(x / a) * cos.(y / a)\n",
    "\n",
    "    A = hcat(u_x, u_y)'\n",
    "    B = hcat(v_x, v_y)'\n",
    "    gU[:] = cat(A, B, dims=3)\n",
    "    nothing\n",
    "end"
   ]
  },
  {
   "attachments": {},
   "cell_type": "markdown",
   "metadata": {},
   "source": [
    "## Plot Fields"
   ]
  },
  {
   "cell_type": "code",
   "execution_count": null,
   "metadata": {},
   "outputs": [],
   "source": [
    "x = LinRange(xmin, xmax, N)\n",
    "y = LinRange(ymin, ymax, N)\n",
    "\n",
    "points = meshgrid(x, y)\n",
    "points = reshape(points, (N^2, 2))';"
   ]
  },
  {
   "cell_type": "code",
   "execution_count": null,
   "metadata": {},
   "outputs": [],
   "source": [
    "PSI_field = laplacianField(points)\n",
    "PSI_field = reshape(PSI_field, (N, N))\n",
    "\n",
    "isoPoints = isoPsi(1, 1e-3, PSI_field, x, y, N);\n",
    "\n",
    "U = vFluid(points)\n",
    "u_field = reshape(U[1, :], (N, N))\n",
    "v_field = reshape(U[2, :], (N, N))\n",
    "\n",
    "P_field = Pressure(points, vFluid);"
   ]
  },
  {
   "cell_type": "code",
   "execution_count": null,
   "metadata": {},
   "outputs": [],
   "source": [
    "# fig = Plots.contourf(x, y, [P_field, PSI_field, u_field, v_field],\n",
    "#     levels=20, color=:turbo, layout=(2, 2),\n",
    "#     title=[L\"P_{st}\" \"Ψ\" L\"$u$\" L\"$v$\"],\n",
    "#     size=(1200, 1000))\n",
    "# display(fig)\n",
    "# savefig(\"Maxey/Field.png\")"
   ]
  },
  {
   "attachments": {},
   "cell_type": "markdown",
   "metadata": {},
   "source": [
    "## Fluid Trajectory"
   ]
  },
  {
   "cell_type": "code",
   "execution_count": null,
   "metadata": {},
   "outputs": [],
   "source": [
    "plotFluidMaxey = false\n",
    "if plotFluidMaxey == true\n",
    "    x0 = reduce(hcat, isoPoints)\n",
    "    dt = 1e-3\n",
    "    t0 = 0\n",
    "    tend = 2 * (xmax - xmin) / U0\n",
    "    trajFlu = RungeKuttaArgs(vFluid, t0, tend, dt, x0, periodic, a)\n",
    "    timer = t0:dt:tend\n",
    "    plotTrajcecotries([trajFlu], timer, PSI_field, [:blue], [:x], \"Fluid Trajectories\")\n",
    "    saveTrajcecotries([trajFlu], timer, PSI_field, [:blue], [:x], \"Fluid Trajectories\", \"Maxey/Fluid_Streamline_Animation\")\n",
    "end"
   ]
  },
  {
   "attachments": {},
   "cell_type": "markdown",
   "metadata": {},
   "source": [
    "## Particle Trajectory"
   ]
  },
  {
   "cell_type": "code",
   "execution_count": null,
   "metadata": {},
   "outputs": [],
   "source": [
    "@fastmath function dvdtP!(F, X, V)\n",
    "    vDims = size(X)\n",
    "\n",
    "    gVF = Array{Float64}(undef, (vDims[1],vDims[2],vDims[1]))\n",
    "    Vfluid = Matrix{Float64}(undef, vDims)\n",
    "    undisturbed = Matrix{Float64}(undef, vDims) #zeros(vDims)\n",
    "    vMass = Matrix{Float64}(undef, vDims) \n",
    "    ssDrag = Matrix{Float64}(undef, vDims) #zeros(vDims)\n",
    "    \n",
    "    vFluid!(Vfluid, X)\n",
    "\n",
    "    u_x = Array{Float64}(undef, vDims[2])\n",
    "    u_y = Array{Float64}(undef, vDims[2])\n",
    "    v_x = Array{Float64}(undef, vDims[2])\n",
    "    v_y = Array{Float64}(undef, vDims[2])\n",
    "    gradVFluid!(u_x,u_y,v_x,v_y,X)\n",
    "    \n",
    "    @fastmath lift = @. (1 - ρ / ρ_d) * G\n",
    "\n",
    "    τν = @. (ρ_d * (d_p^2) / (18 * μ))\n",
    "    @views @fastmath @inbounds ssDrag[1, :] = @. (1 / τν) * (Vfluid-V)[1, :]\n",
    "    @views @fastmath @inbounds ssDrag[2, :] = @. (1 / τν) * (Vfluid-V)[2, :]\n",
    "\n",
    "    @fastmath @inbounds undisturbed[1,:] = @. (ρ / ρ_d) * (V[1,:] * u_x + V[2,:] * u_y)\n",
    "    @fastmath @inbounds undisturbed[2,:] = @. (ρ / ρ_d) * (V[1,:] * v_x + V[2,:] * v_y)\n",
    "\n",
    "    @fastmath @inbounds vMass[1,:] = @. 0.5 * (ρ / ρ_d) * (Vfluid[1,:] * u_x + Vfluid[2,:] * u_y)\n",
    "    @fastmath @inbounds vMass[2,:] = @. 0.5 * (ρ / ρ_d) * (Vfluid[1,:] * v_x + Vfluid[2,:] * v_y)\n",
    "\n",
    "    F[:] = @. dt * (undisturbed + vMass + lift + ssDrag) / (1 + 0.5 * ρ / ρ_d) # + brown\n",
    "    nothing\n",
    "end"
   ]
  },
  {
   "cell_type": "code",
   "execution_count": null,
   "metadata": {},
   "outputs": [],
   "source": [
    "# μ = 1.813e-5\n",
    "global μ = 1e-3\n",
    "global ρ = 1\n",
    "\n",
    "global ρ_d = 1000\n",
    "global d_p = invStokes(0.5)\n",
    "global V_d = (π / 6) * (d_p^3)\n",
    "global m_P = V_d * ρ_d\n",
    "global m_F = V_d * ρ\n",
    "\n",
    "St = round(Stokes(d_p),sigdigits = 3)\n",
    "println(\"Stokes Number is $St\\ndiameter: $d_p\\ndensity: $ρ_d\")\n",
    "Rmaxie = round((ρ / (0.5 * ρ + ρ_d)),sigdigits=3)\n",
    "println(\"R is $Rmaxie\")"
   ]
  },
  {
   "attachments": {},
   "cell_type": "markdown",
   "metadata": {},
   "source": [
    "### Particle Grid"
   ]
  },
  {
   "cell_type": "code",
   "execution_count": null,
   "metadata": {},
   "outputs": [],
   "source": [
    "p_num = round(Int, 30);\n",
    "de = 0.5;\n",
    "particleXs = LinRange(xmin + de, xmax - de, p_num);\n",
    "particleYs = LinRange(ymin + de, ymax - de, p_num);\n",
    "points = meshgrid(particleXs, particleYs);\n",
    "points = reshape(points, (p_num^2, 2))';\n",
    "V0 = vFluid(points);"
   ]
  },
  {
   "attachments": {},
   "cell_type": "markdown",
   "metadata": {},
   "source": [
    "### Integrate"
   ]
  },
  {
   "cell_type": "code",
   "execution_count": null,
   "metadata": {},
   "outputs": [],
   "source": [
    "dt = 9e-3;\n",
    "t0 = 0.0;\n",
    "tend = 20 * (xmax - xmin) / U0\n",
    "timer = t0:dt:tend;\n",
    "println(\"Simulation from t0=$t0 to tend=$tend with dt=$dt\")\n",
    "println(\"Steps: $(round(Int,(tend-t0)/dt))\")"
   ]
  },
  {
   "cell_type": "code",
   "execution_count": null,
   "metadata": {},
   "outputs": [],
   "source": [
    "trajFlu = RungeKutta(vFluid, t0, tend, dt, points, periodic);"
   ]
  },
  {
   "cell_type": "code",
   "execution_count": null,
   "metadata": {},
   "outputs": [],
   "source": [
    "traj = RK4systems(dxdtP!, dvdtP!, t0, tend, dt, points, V0, periodic);"
   ]
  },
  {
   "attachments": {},
   "cell_type": "markdown",
   "metadata": {},
   "source": [
    "### Animate"
   ]
  },
  {
   "cell_type": "code",
   "execution_count": null,
   "metadata": {},
   "outputs": [],
   "source": [
    "plotTrajcecotries([traj, trajFlu], timer, PSI_field, colors, markers, \"Particle Trajectories (Stokes= $(round(St,sigdigits =3)), R=$(round(Rmaxie,sigdigits =3))) \"\n",
    "    , 150)"
   ]
  },
  {
   "attachments": {},
   "cell_type": "markdown",
   "metadata": {},
   "source": [
    "### Save Vid"
   ]
  },
  {
   "cell_type": "code",
   "execution_count": null,
   "metadata": {},
   "outputs": [],
   "source": [
    "saveTrajcecotries([traj, trajFlu], timer, PSI_field, colors, markers, \"Particle Trajectories (Stokes= $(round(St,sigdigits =3)), R=$(round(Rmaxie,sigdigits =3))) \",\n",
    "    \"Maxey/Partictles_R_$(round(Rmaxie,sigdigits =3))_Stokes_$(round(St,sigdigits =3))\", 150)"
   ]
  }
 ],
 "metadata": {
  "kernelspec": {
   "display_name": "Julia 1.8.0",
   "language": "julia",
   "name": "julia-1.8"
  },
  "language_info": {
   "file_extension": ".jl",
   "mimetype": "application/julia",
   "name": "julia",
   "version": "1.8.0"
  },
  "orig_nbformat": 4,
  "vscode": {
   "interpreter": {
    "hash": "8acd08952dc410be23279ea6eab1a080d514a48a01ad47827aa392f9fbd61ae4"
   }
  }
 },
 "nbformat": 4,
 "nbformat_minor": 2
}
