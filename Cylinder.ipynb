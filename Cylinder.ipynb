{
 "cells": [
  {
   "cell_type": "code",
   "execution_count": 43,
   "metadata": {},
   "outputs": [],
   "source": [
    "using Plots\n",
    "using LaTeXStrings\n",
    "using GLMakie\n",
    "using Distributions, Random\n",
    "# using ProfileVega\n",
    "# using Traceur"
   ]
  },
  {
   "attachments": {},
   "cell_type": "markdown",
   "metadata": {},
   "source": [
    "# Parameters"
   ]
  },
  {
   "cell_type": "code",
   "execution_count": 44,
   "metadata": {},
   "outputs": [],
   "source": [
    "# set_zero_subnormals(true)"
   ]
  },
  {
   "cell_type": "code",
   "execution_count": 45,
   "metadata": {},
   "outputs": [
    {
     "name": "stderr",
     "output_type": "stream",
     "text": [
      "WARNING: redefinition of constant G. This may fail, cause incorrect answers, or produce other errors.\n"
     ]
    },
    {
     "data": {
      "text/plain": [
       "1.2"
      ]
     },
     "metadata": {},
     "output_type": "display_data"
    }
   ],
   "source": [
    "const global U0 = 10;\n",
    "const global R = 0.5;\n",
    "const global Rtr = 1.5 * R\n",
    "\n",
    "const global xmax = 2;\n",
    "const global xmin = -2;\n",
    "const global ymax = 2;\n",
    "const global ymin = -2;\n",
    "const global G = [0, -9.81];\n",
    "const global k_b = 1.3806490e-23;\n",
    "# FLUID\n",
    "global μ = 1.813e-5\n",
    "global ρ = 1.2"
   ]
  },
  {
   "cell_type": "code",
   "execution_count": 46,
   "metadata": {},
   "outputs": [
    {
     "data": {
      "text/plain": [
       "invStokes (generic function with 1 method)"
      ]
     },
     "metadata": {},
     "output_type": "display_data"
    }
   ],
   "source": [
    "function Stokes(d)\n",
    "    tchar = ρ_d * (d^2) / (18 * μ)\n",
    "    return (U0 / R) * tchar\n",
    "end\n",
    "\n",
    "function invStokes(St)\n",
    "    return sqrt(18 * St * μ * R / (U0 * ρ_d))\n",
    "end"
   ]
  },
  {
   "attachments": {},
   "cell_type": "markdown",
   "metadata": {},
   "source": [
    "### Functions "
   ]
  },
  {
   "cell_type": "code",
   "execution_count": 47,
   "metadata": {},
   "outputs": [
    {
     "data": {
      "text/plain": [
       "periodic (generic function with 2 methods)"
      ]
     },
     "metadata": {},
     "output_type": "display_data"
    }
   ],
   "source": [
    "function RungeKutta(fun, t0, tn, dt, y0, checkFun)\n",
    "    y = []\n",
    "    push!(y, y0)\n",
    "\n",
    "    steps = round(Int, (tn - t0) / dt)\n",
    "    for i in 1:steps\n",
    "        k1 = dt .* fun(checkFun(y[i]))\n",
    "        k2 = dt .* fun(checkFun(y[i] .+ k1 ./ 2))\n",
    "        k3 = dt .* fun(checkFun(y[i] .+ k2 ./ 2))\n",
    "        k4 = dt .* fun(checkFun(y[i] .+ k3))\n",
    "        k = (k1 + 2 * k2 + 2 * k3 + k4) / 6\n",
    "        push!(y, checkFun(y[i] + k))\n",
    "    end\n",
    "    return y\n",
    "end\n",
    "\n",
    "function RK4systems(f, g, t0, tn, dt, y0, V0, checkFuns)\n",
    "    #    RK4systems(dxdtP, dvdtP, t0, tend, dt, points, V0);\n",
    "    x = Vector{Matrix{Float64}}(undef, 0)\n",
    "    v = Vector{Matrix{Float64}}(undef, 0)\n",
    "\n",
    "\n",
    "    push!(x, y0)\n",
    "    push!(v, V0)\n",
    "    steps = round(Int, (tn - t0) / dt)\n",
    "    for i in 1:steps\n",
    "        k1 = zeros(size(x[i]))\n",
    "        k2 = zeros(size(x[i]))\n",
    "        k3 = zeros(size(x[i]))\n",
    "        k4 = zeros(size(x[i]))\n",
    "\n",
    "        l1 = zeros(size(v[i]))\n",
    "        l2 = zeros(size(v[i]))\n",
    "        l3 = zeros(size(v[i]))\n",
    "        l4 = zeros(size(v[i]))\n",
    "\n",
    "        f(k1, x[i], v[i])\n",
    "        g(l1, x[i], v[i])\n",
    "\n",
    "        f(k2, x[i] .+ (k1 ./ 2), v[i] .+ l1 ./ 2)\n",
    "        g(l2, x[i] .+ (k1 ./ 2), v[i] .+ l1 ./ 2)\n",
    "\n",
    "        f(k3, x[i] .+ (k2 ./ 2), v[i] .+ l2 ./ 2)\n",
    "        g(l3, x[i] .+ (k2 ./ 2), v[i] .+ l2 ./ 2)\n",
    "\n",
    "        f(k4, x[i] .+ k3, v[i] .+ l3)\n",
    "        g(l4, x[i] .+ k3, v[i] .+ l3)\n",
    "\n",
    "        k = (k1 .+ 2 .* k2 .+ 2 .* k3 .+ k4) ./ 6\n",
    "        l = (l1 .+ 2 .* l2 .+ 2 .* l3 .+ l4) ./ 6\n",
    "\n",
    "        newX = x[i] + k\n",
    "        newV =  v[i] + l\n",
    "        \n",
    "        for chkFun in checkFuns\n",
    "            newX, newV = chkFun(newX,newV)\n",
    "        end\n",
    "\n",
    "        push!(x, newX)\n",
    "        push!(v, newV)\n",
    "\n",
    "        if any(isnan, x[i])\n",
    "            println(\"Blew UP at $i\")\n",
    "            break\n",
    "        elseif size(x[i+1])[2] == 0\n",
    "            break\n",
    "        end\n",
    "    end\n",
    "    return x\n",
    "end\n",
    "\n",
    "function meshgrid(x, y)\n",
    "    X = [i for i in x, j in 1:length(y)]\n",
    "    Y = [j for i in 1:length(x), j in y]\n",
    "\n",
    "    return cat(X, Y, dims=3)\n",
    "end\n",
    "\n",
    "function Pressure(coord, vfun)\n",
    "    U = vfun(points)\n",
    "    @views u = U[1, :]\n",
    "    @views v = U[2, :]\n",
    "    return @. 0.5ρ * U0^2 - 0.5ρ * (u^2 + v^2)\n",
    "end\n",
    "\n",
    "function isoPsi(C, tol, zs, xs, ys, N)\n",
    "    sols = []\n",
    "    for i in 1:N\n",
    "        for j in 1:N\n",
    "            if abs(zs[i, j] - C) < tol\n",
    "                push!(sols, [xs[i], ys[j]])\n",
    "            end\n",
    "        end\n",
    "    end\n",
    "    return sols\n",
    "end\n",
    "\n",
    "function dxdtP!(DX, points, V)\n",
    "    DX[:] = dt .* V\n",
    "    nothing\n",
    "end\n",
    "\n",
    "function Knudsen(coord, T_f)\n",
    "    c = @. sqrt(1.4 * 287.14 * T_f)\n",
    "    Kn = @. μ / (D_d * c * ρ)\n",
    "    return Kn\n",
    "end\n",
    "\n",
    "function periodic(x, V)\n",
    "    return (mod.(-(6 .- (x)), 12) .- 6), V\n",
    "end\n",
    "\n",
    "function periodic(x)\n",
    "    return (mod.(-(6 .- (x)), 12) .- 6)\n",
    "end"
   ]
  },
  {
   "attachments": {},
   "cell_type": "markdown",
   "metadata": {},
   "source": [
    "### Plotting"
   ]
  },
  {
   "cell_type": "code",
   "execution_count": 48,
   "metadata": {},
   "outputs": [],
   "source": [
    "function plotTrajcecotries(trajs, timer, fieldContour, colors, markers, tit, divider = 30*10)\n",
    "    xs = Vector{Observable{Vector{Float64}}}(undef, size(trajs))\n",
    "    ys = Vector{Observable{Vector{Float64}}}(undef, size(trajs))\n",
    "    for i in 1:size(trajs)[1]\n",
    "        xs[i] = Observable(trajs[i][1][1, :])\n",
    "        ys[i] = Observable(trajs[i][1][2, :])\n",
    "    end\n",
    "\n",
    "    title = Observable(L\"%$tit $t = %$(timer[1]) $\")\n",
    "\n",
    "    fig = GLMakie.Figure()\n",
    "    display(fig)\n",
    "    ax = Axis(fig[1, 1])\n",
    "\n",
    "    GLMakie.contourf!(x, y, fieldContour, levels=20, color=:turbo)\n",
    "\n",
    "    for i in 1:size(trajs)[1]\n",
    "        GLMakie.scatter!(xs[i], ys[i], color=colors[i], marker=markers[i], strokewidth=2e-4)\n",
    "    end\n",
    "\n",
    "    Label(fig[1, 1, Top()], title, padding=(0, 0, 10, 0))\n",
    "    Colorbar(fig[1, 2]; label=L\"Ψ\")\n",
    "\n",
    "    steps = 10e100\n",
    "    for i in 1:size(trajs)[1]\n",
    "        if size(trajs[i])[1] < steps\n",
    "            steps = size(trajs[i])[1]\n",
    "        end\n",
    "    end\n",
    "    framerate = round(Int, steps / divider)\n",
    "    for i in 1:framerate:steps\n",
    "        sleep(1 / 30)\n",
    "        title[] = L\"%$tit $t = %$(timer[i]) $\"\n",
    "        for j in 1:size(trajs)[1]\n",
    "            patching = size(trajs[j][1][1, :])[1] - size(trajs[j][i][1, :])[1]\n",
    "            xs[j][] = vcat(trajs[j][i][1, :], (2 * xmax) .* ones(patching))\n",
    "            ys[j][] = vcat(trajs[j][i][2, :], (2 * ymax) .* ones(patching))\n",
    "        end\n",
    "    end\n",
    "end\n",
    "\n",
    "function saveTrajcecotries(trajs, timer, fieldContour, colors, markers, tit, filename,divider = 30*10)\n",
    "    xs = Vector{Observable{Vector{Float64}}}(undef, size(trajs))\n",
    "    ys = Vector{Observable{Vector{Float64}}}(undef, size(trajs))\n",
    "    cur_colors = theme_palette(:auto)\n",
    "    for i in 1:size(trajs)[1]\n",
    "        xs[i] = Observable(trajs[i][1][1, :])\n",
    "        ys[i] = Observable(trajs[i][1][2, :])\n",
    "    end\n",
    "    title = Observable(L\"$tit $t = %$(timer[1]) $\")\n",
    "\n",
    "    fig = GLMakie.Figure()\n",
    "    display(fig)\n",
    "    ax = Axis(fig[1, 1])\n",
    "\n",
    "    GLMakie.contourf!(x, y, fieldContour, levels=20, color=:turbo)\n",
    "\n",
    "    for i in 1:size(trajs)[1]\n",
    "        GLMakie.scatter!(xs[i], ys[i], color=colors[i], marker=markers[i], strokewidth=2e-4)\n",
    "    end\n",
    "\n",
    "    Label(fig[1, 1, Top()], title, padding=(0, 0, 10, 0))\n",
    "    Colorbar(fig[1, 2]; label=L\"Ψ\")\n",
    "\n",
    "    steps = 10e100\n",
    "    for i in 1:size(trajs)[1]\n",
    "        if size(trajs[i])[1] < steps\n",
    "            steps = size(trajs[i])[1]\n",
    "        end\n",
    "    end\n",
    "    timestamps = 1:round(Int, steps / (divider)):steps\n",
    "\n",
    "    record(fig, \"$filename.mp4\", timestamps; framerate=30) do i\n",
    "        title[] = L\"%$tit $t = %$(timer[i]) $\"\n",
    "        for j in 1:size(trajs)[1]\n",
    "            patching = size(trajs[j][1][1, :])[1] - size(trajs[j][i][1, :])[1]\n",
    "            xs[j][] = vcat(trajs[j][i][1, :], (2 * xmax) .* ones(patching))\n",
    "            ys[j][] = vcat(trajs[j][i][2, :], (2 * ymax) .* ones(patching))\n",
    "        end\n",
    "    end\n",
    "end\n",
    "\n",
    "colors = [:red, :blue, :green];\n",
    "markers = [:x, :circle, :circle];"
   ]
  },
  {
   "attachments": {},
   "cell_type": "markdown",
   "metadata": {},
   "source": [
    "# Cylinder Field"
   ]
  },
  {
   "attachments": {},
   "cell_type": "markdown",
   "metadata": {},
   "source": [
    "## Functions"
   ]
  },
  {
   "cell_type": "code",
   "execution_count": 49,
   "metadata": {},
   "outputs": [
    {
     "data": {
      "text/plain": [
       "TempField (generic function with 1 method)"
      ]
     },
     "metadata": {},
     "output_type": "display_data"
    }
   ],
   "source": [
    "function laplacianField_c!(Ψ, points)\n",
    "    @views x = points[1, :]\n",
    "    @views y = points[2, :]\n",
    "    @fastmath r = @. sqrt(x .^ 2 + y .^ 2)\n",
    "    @fastmath theta = @. atan(y, x)\n",
    "    Ψ[:] = @fastmath @. U0 * (1 - (R / r) .^ 2) * r * sin(theta)\n",
    "    nothing\n",
    "end\n",
    "\n",
    "function vFluid_c!(U, points)\n",
    "    @views x = points[1, :]\n",
    "    @views y = points[2, :]\n",
    "    @fastmath r = @. sqrt(x .^ 2 + y .^ 2)\n",
    "    @fastmath theta = atan.(y, x)\n",
    "\n",
    "    @fastmath u_r = @. U0 * (1 - (R^2 / r^2)) * cos(theta)\n",
    "    @fastmath u_th = @. -U0 * (1 + (R^2 / r^2)) * sin(theta)\n",
    "\n",
    "    @fastmath u = @. u_r * cos(theta) - u_th * sin(theta)\n",
    "    @fastmath v = @. u_r * sin(theta) + u_th * cos(theta)\n",
    "\n",
    "    U[:] = hcat(u, v)'\n",
    "    nothing\n",
    "end\n",
    "\n",
    "function gradVFluid_c!(u_x, u_y, v_x, v_y, points)\n",
    "    @views x = points[1, :]\n",
    "    @views y = points[2, :]\n",
    "\n",
    "    @fastmath u_x[:] = @. 2 * R^2 * U0 * x * (x^2 - 3 * y^2) / ((x^2 + y^2)^3)\n",
    "    @fastmath u_y[:] = @. -2 * R^2 * U0 * y * (y^2 - 3 * x^2) / ((x^2 + y^2)^3)\n",
    "    @fastmath v_x[:] = u_y   # Due to potential flow\n",
    "    @fastmath v_y[:] = -u_x  # Due to continuity\n",
    "    nothing\n",
    "end\n",
    "\n",
    "function TempField!(T, coord)\n",
    "    @views x = coord[1, :]\n",
    "    @views y = coord[2, :]\n",
    "    T[:] = zeros(size(x))\n",
    "    for i in 1:size(x)[1]\n",
    "        r = sqrt(x[i]^2 + y[i]^2)\n",
    "        if r < R\n",
    "            T[i] = 900\n",
    "        elseif r < Rtr\n",
    "            T[i] = 900 * (1 - (r - R) / (Rtr - R)) + 0.75 * 900 * (r - R) / (Rtr - R)\n",
    "        else\n",
    "            T[i] = 0.75 * 900\n",
    "        end\n",
    "    end\n",
    "    nothing\n",
    "end\n",
    "\n",
    "function laplacianField_c(points)\n",
    "    @views x = points[1, :]\n",
    "    @views y = points[2, :]\n",
    "    @fastmath r = @. sqrt(x .^ 2 + y .^ 2)\n",
    "    @fastmath theta = @. atan(y, x)\n",
    "    return @fastmath @. U0 * (1 - (R / r) .^ 2) * r * sin(theta)\n",
    "end\n",
    "\n",
    "\n",
    "function vFluid_c(points)\n",
    "    @views x = points[1, :]\n",
    "    @views y = points[2, :]\n",
    "    @fastmath r = @. sqrt(x .^ 2 + y .^ 2)\n",
    "    @fastmath theta = -atan.(y, x)\n",
    "\n",
    "    @fastmath u_r = @. U0 * (1 - (R^2 / r^2)) * cos(-theta)\n",
    "    @fastmath u_th = @. -U0 * (1 + (R^2 / r^2)) * sin(-theta)\n",
    "\n",
    "    @fastmath u = @. u_r * cos(-theta) - u_th * sin(-theta)\n",
    "    @fastmath v = @. u_r * sin(-theta) + u_th * cos(-theta)\n",
    "\n",
    "    U = hcat(u, v)'\n",
    "    return U\n",
    "end\n",
    "\n",
    "function TempField(coord)\n",
    "    x = coord[1, :]\n",
    "    y = coord[2, :]\n",
    "    T = zeros(size(x))\n",
    "    for i in 1:size(x)[1]\n",
    "        r = sqrt(x[i]^2 + y[i]^2)\n",
    "        if r < R\n",
    "            T[i] = 900\n",
    "        elseif r < Rtr\n",
    "            T[i] = 900 * (1 - (r - R) / (Rtr - R)) + 0.75 * 900 * (r - R) / (Rtr - R)\n",
    "        else\n",
    "            T[i] = 0.75 * 900\n",
    "        end\n",
    "    end\n",
    "    return T\n",
    "end"
   ]
  },
  {
   "cell_type": "code",
   "execution_count": 50,
   "metadata": {},
   "outputs": [
    {
     "data": {
      "text/plain": [
       "Per_Colisions (generic function with 1 method)"
      ]
     },
     "metadata": {},
     "output_type": "display_data"
    }
   ],
   "source": [
    "function Per_Colisions(coord, V)\n",
    "    global D_d\n",
    "    global T_d\n",
    "    global M_d\n",
    "    @views x = coord[1, :]\n",
    "    @views y = coord[2, :]\n",
    "    idxs = []\n",
    "    for i in 1:length(x)\n",
    "        if x[i]^2 + y[i]^2 < R^2\n",
    "            u = V[1, i]\n",
    "            v = V[2, i]\n",
    "\n",
    "            # Solve quadratic for collision point\n",
    "            a = u^2 + v^2\n",
    "            b = -2(x[i] * u + v * y[i])\n",
    "            c = x[i]^2 + y[i]^2 - R^2\n",
    "            Δ = b^2 - 4 * a * c\n",
    "\n",
    "            dt = (-b + sqrt(Δ)) / (2a)\n",
    "            x_col = x[i] - u * dt\n",
    "            y_col = y[i] - v * dt\n",
    "\n",
    "            # calculate Tangetial and radial Velocity\n",
    "            θ = atan(y_col, x_col)   # angle of collision point\n",
    "            V_rad = (u * cos(-θ) - v * sin(-θ))\n",
    "            V_tan = (u * sin(-θ) + v * cos(-θ))\n",
    "\n",
    "            # Flip Velocity due to collision\n",
    "            V_rad = -V_rad\n",
    "\n",
    "            # Convert to cartesian\n",
    "            u_col = (V_rad * cos(θ) - V_tan * sin(θ))\n",
    "            v_col = (V_rad * sin(θ) + V_tan * cos(θ))\n",
    "\n",
    "            # Calculate new coordinates tore results\n",
    "            coord[1, i] = x_col + u_col * dt\n",
    "            coord[2, i] = y_col + v_col * dt\n",
    "            V[1, i] = u_col\n",
    "            V[2, i] = v_col\n",
    "        else\n",
    "            if (x[i] > xmax) | (x[i] < -xmax)\n",
    "                push!(idxs, i)\n",
    "            elseif (y[i] > ymax) | (y[i] < -ymax)\n",
    "                push!(idxs, i)\n",
    "            end\n",
    "        end\n",
    "    end\n",
    "\n",
    "    coord = coord[:, setdiff(1:end, idxs)]\n",
    "    V = V[:, setdiff(1:end, idxs)]\n",
    "\n",
    "    D_d = D_d[setdiff(1:end, idxs)]\n",
    "    T_d = T_d[setdiff(1:end, idxs)]\n",
    "    M_d = M_d[setdiff(1:end, idxs)]\n",
    "\n",
    "    return coord, V\n",
    "end"
   ]
  },
  {
   "attachments": {},
   "cell_type": "markdown",
   "metadata": {},
   "source": [
    "## Plot Fields"
   ]
  },
  {
   "attachments": {},
   "cell_type": "markdown",
   "metadata": {},
   "source": [
    "### Flow Fields"
   ]
  },
  {
   "cell_type": "code",
   "execution_count": 51,
   "metadata": {},
   "outputs": [],
   "source": [
    "Num_pts = 1000\n",
    "y = LinRange(xmin, xmax, Num_pts)\n",
    "x = LinRange(ymin, ymax, Num_pts)\n",
    "points = zeros(Num_pts, Num_pts, 2)\n",
    "for i in 1:Num_pts\n",
    "    for j in 1:Num_pts\n",
    "        if x[i]^2 + y[j]^2 > R^2\n",
    "            points[i, j, 1] = x[i]\n",
    "            points[i, j, 2] = y[j]\n",
    "        end\n",
    "    end\n",
    "end\n",
    "points = reshape(points, (Num_pts^2, 2))';"
   ]
  },
  {
   "cell_type": "code",
   "execution_count": 52,
   "metadata": {},
   "outputs": [],
   "source": [
    "PSI_field_c = laplacianField_c(points);\n",
    "PSI_field_c = reshape(PSI_field_c, (Num_pts, Num_pts));\n",
    "\n",
    "isoPoints_c = isoPsi(1, 1e-3, PSI_field_c, x, y, Num_pts);\n",
    "\n",
    "P_field_c = Pressure(points, vFluid_c)\n",
    "P_field_c = reshape(P_field_c, (Num_pts, Num_pts))\n",
    "\n",
    "U_c = vFluid_c(points);\n",
    "u_field_c = reshape(U_c[1, :], (Num_pts, Num_pts));\n",
    "v_field_c = reshape(U_c[2, :], (Num_pts, Num_pts));"
   ]
  },
  {
   "cell_type": "code",
   "execution_count": 53,
   "metadata": {},
   "outputs": [],
   "source": [
    "# fig = Plots.contourf(x, y, [P_field_c', PSI_field_c', u_field_c', v_field_c'],\n",
    "#     levels=100, color=:turbo, layout=(2, 2),\n",
    "#     title=[L\"P_{st}\" \"Ψ\" L\"$u$\" L\"$v$\"],\n",
    "#     size=(1200, 1000))\n",
    "# savefig(\"Cylinder/Field.png\")"
   ]
  },
  {
   "attachments": {},
   "cell_type": "markdown",
   "metadata": {},
   "source": [
    "### Temperature"
   ]
  },
  {
   "cell_type": "code",
   "execution_count": 54,
   "metadata": {},
   "outputs": [],
   "source": [
    "y = LinRange(xmin, xmax, Num_pts)\n",
    "x = LinRange(ymin, ymax, Num_pts)\n",
    "points = zeros(Num_pts, Num_pts, 2)\n",
    "for i in 1:Num_pts\n",
    "    for j in 1:Num_pts\n",
    "        points[i, j, 1] = x[i]\n",
    "        points[i, j, 2] = y[j]\n",
    "    end\n",
    "end\n",
    "points = reshape(points, (Num_pts^2, 2))';"
   ]
  },
  {
   "cell_type": "code",
   "execution_count": 55,
   "metadata": {},
   "outputs": [],
   "source": [
    "T_field_c = TempField(points);\n",
    "T_field_c = reshape(T_field_c, (Num_pts, Num_pts));"
   ]
  },
  {
   "cell_type": "code",
   "execution_count": 56,
   "metadata": {},
   "outputs": [],
   "source": [
    "# fig = Plots.contourf(x, y, T_field_c', levels=20, color=:plasma, aspect_ratio=:equal, title=L\"T\", size=(800, 820))\n",
    "# display(fig)\n",
    "# savefig(\"Cylinder/Temperature_Field.png\")"
   ]
  },
  {
   "attachments": {},
   "cell_type": "markdown",
   "metadata": {},
   "source": [
    "## Fluid Trajectory"
   ]
  },
  {
   "cell_type": "code",
   "execution_count": 57,
   "metadata": {},
   "outputs": [],
   "source": [
    "p_num = 50\n",
    "de = 0;\n",
    "particleXs = LinRange(xmin + de, xmax - de, p_num);\n",
    "particleYs = LinRange(ymin + de, ymax - de, p_num);\n",
    "points = meshgrid(particleXs, particleYs);\n",
    "points = reshape(points, (p_num^2, 2))';\n",
    "\n",
    "for i in 1:p_num^2\n",
    "    if points[1, i]^2 + points[2, i]^2 < R^2\n",
    "        points[1, i] = -xmax\n",
    "        points[2, i] = (i - ymax) % (2 * ymax) - (ymax - de)\n",
    "    end\n",
    "end\n",
    "V0 = vFluid_c(points);\n",
    "\n",
    "dt = 1e-3\n",
    "t0 = 0\n",
    "tend = 2 * (xmax - xmin) / U0\n",
    "trajFlu = RungeKutta(vFluid_c, t0, tend, dt, points, periodic);\n",
    "timer = t0:dt:tend;"
   ]
  },
  {
   "cell_type": "code",
   "execution_count": 58,
   "metadata": {},
   "outputs": [],
   "source": [
    "# plotTrajcecotries([trajFlu], timer, PSI_field_c, colors, markers, \"Fluid Trajectories\")\n",
    "# saveTrajcecotries([trajFlu], timer, PSI_field_c, colors, markers, \"Fluid Trajectories\", \"Cylinder/Fluid_Streamline_Animation\")"
   ]
  },
  {
   "attachments": {},
   "cell_type": "markdown",
   "metadata": {},
   "source": [
    "## Particle Trajectory"
   ]
  },
  {
   "cell_type": "code",
   "execution_count": 59,
   "metadata": {},
   "outputs": [
    {
     "data": {
      "text/plain": [
       "Brownian! (generic function with 1 method)"
      ]
     },
     "metadata": {},
     "output_type": "display_data"
    }
   ],
   "source": [
    "@fastmath function dvdtP_c!(F, X, V)\n",
    "    vDims = size(X)\n",
    "\n",
    "    Vfluid = Matrix{Float64}(undef, vDims)\n",
    "    undisturbed = Matrix{Float64}(undef, vDims) #zeros(vDims)\n",
    "    vMass = Matrix{Float64}(undef, vDims)\n",
    "    ssDrag = Matrix{Float64}(undef, vDims) #zeros(vDims)\n",
    "    brown = Matrix{Float64}(undef, vDims)\n",
    "\n",
    "    vFluid_c!(Vfluid, X)\n",
    "\n",
    "    u_x = Array{Float64}(undef, vDims[2])\n",
    "    u_y = Array{Float64}(undef, vDims[2])\n",
    "    v_x = Array{Float64}(undef, vDims[2])\n",
    "    v_y = Array{Float64}(undef, vDims[2])\n",
    "\n",
    "    gradVFluid_c!(u_x, u_y, v_x, v_y, X)\n",
    "\n",
    "    @fastmath lift = @. (1 - ρ / ρ_d) * G\n",
    "\n",
    "    τν = @. (ρ_d * (D_d^2) / (18 * μ))\n",
    "    @fastmath @inbounds ssDrag[1, :] = @. (1 / τν) * (Vfluid-V)[1, :]\n",
    "    @fastmath @inbounds ssDrag[2, :] = @. (1 / τν) * (Vfluid-V)[2, :]\n",
    "\n",
    "    @fastmath @inbounds undisturbed[1, :] = @. (ρ / ρ_d) * (Vfluid[1, :] * u_x + Vfluid[2, :] * u_y)\n",
    "    @fastmath @inbounds undisturbed[2, :] = @. (ρ / ρ_d) * (Vfluid[1, :] * v_x + Vfluid[2, :] * v_y)\n",
    "\n",
    "    @fastmath @inbounds vMass[1, :] = @. 0.5 * (ρ / ρ_d) * (V[1, :] * u_x + V[2, :] * u_y)\n",
    "    @fastmath @inbounds vMass[2, :] = @. 0.5 * (ρ / ρ_d) * (V[1, :] * v_x + V[2, :] * v_y)\n",
    "\n",
    "    Brownian!(brown, X, V)\n",
    "\n",
    "    F[:] = @. dt * (undisturbed + vMass + lift + ssDrag) / (1 + 0.5 * ρ / ρ_d) + dt* brown\n",
    "    nothing\n",
    "end\n",
    "\n",
    "function Brownian!(F, coord, V)\n",
    "    d = Normal(0, 1)\n",
    "    Gaussian = rand(d, size(coord))\n",
    "\n",
    "    T_f = TempField(coord)\n",
    "    Kn = Knudsen(coord, T_f)\n",
    "    C_c = @. 1 / (1 + Kn * (2.49 + 0.84 * exp(-1.74 / Kn)))\n",
    "    S = @. 216 * (μ / ρ) * k_b * T_f / ((π^2) * ρ_d * (D_d^5) * (ρ_d / ρ)^2 * C_c)\n",
    "\n",
    "    foo = hcat(sqrt.(π * S / dt), sqrt.(π * S / dt))'\n",
    "    f_t = @. Gaussian * foo\n",
    "    # B = @. C_c / (3 * π * μ * D_d)\n",
    "\n",
    "    F[:] = f_t #- (1 / B) * V\n",
    "    nothing\n",
    "end"
   ]
  },
  {
   "cell_type": "code",
   "execution_count": 60,
   "metadata": {},
   "outputs": [
    {
     "data": {
      "text/plain": [
       "evaporation (generic function with 1 method)"
      ]
     },
     "metadata": {},
     "output_type": "display_data"
    }
   ],
   "source": [
    "global Du = 2.42e-5;\n",
    "global Hum_rel = 2 / 100;\n",
    "global Patm = 1e5;\n",
    "global hlatent = 2.260e6\n",
    "global Cp_d = 4.18e3\n",
    "global k = 0.028;\n",
    "\n",
    "function evaporation(pts, Vel)\n",
    "    global D_d\n",
    "    global M_d\n",
    "    global T_d\n",
    "\n",
    "    global Devap\n",
    "    global Tevap\n",
    "    global Mevap\n",
    "\n",
    "    ## Get Fluid Temeperature and Velocity\n",
    "    T_f = Array{Float64}(undef, size(pts)[2])\n",
    "    VFluid = Matrix{Float64}(undef, size(pts))\n",
    "\n",
    "    TempField!(T_f, pts)\n",
    "    vFluid_c!(VFluid, pts)\n",
    "\n",
    "    ## Calculate Humidity\n",
    "    #Psat = @. 610.7 * exp10(7.5 * (T_d - 273.15) / (T_d - 35.85))\n",
    "    @fastmath Psat = @. 610.94 * exp(17.625 * (T_d - 273.15) / (T_d - 273.15 + 243.04))\n",
    "\n",
    "    @fastmath wAs = @. (18.01528 / 28.96) * (Psat / Patm)\n",
    "    @fastmath wAinf = wAs * Hum_rel\n",
    "\n",
    "    ## Calculate Flow Numbers\n",
    "    @fastmath magDv = @. sqrt((VFluid[1, :] - Vel[1, :])^2 + (VFluid[2, :] - Vel[2, :])^2)\n",
    "    @fastmath Reyn_r = @. magDv * D_d * ρ / μ\n",
    "    @fastmath Schmidt = μ / (ρ * Du)\n",
    "    @fastmath Sherwood = @. 2 + 0.6 * (Reyn_r^0.5) * (Schmidt^0.33)\n",
    "    @fastmath Prandtl = Cp_d * (μ / k)\n",
    "    @fastmath Nusselt = @. 2 + 0.4 * (Reyn_r^0.5) * (Prandtl^0.33)\n",
    "\n",
    "    ## Calculate Heat and Mass Transfer Coeeffs\n",
    "    @fastmath Qdot = @. (π * D_d) * (Nusselt * k) * (T_f - T_d)\n",
    "    @fastmath mdot = @. Sherwood * π * D_d * ρ * Du * (wAinf - wAs)\n",
    "    @fastmath λ = @. 4 * Sherwood * (ρ / ρ_d) * Du * (wAs - wAinf)\n",
    "\n",
    "    # Check if the Particle still exists and calculate new Properties\n",
    "    idxs = []\n",
    "    for i in 1:size(D_d)[1]\n",
    "        if (M_d[i] + mdot[i] * dt  < 0) | (D_d[i]^2 - λ[i] * dt < 0)\n",
    "            push!(idxs, i)\n",
    "        else\n",
    "            ## Euler Integration of Equations\n",
    "            mass  = D_d[i]^3 * ρ_d *  π / 6\n",
    "            D_d[i] = sqrt(D_d[i]^2 - λ[i] * dt)                                     # New Diam\n",
    "            T_d[i] = T_d[i] + (Qdot[i] + hlatent * mdot[i]) * dt / (mass * Cp_d)    # New Temp\n",
    "            M_d[i] = M_d[i] + mdot[i] * dt                                          # New Mass\n",
    "            \n",
    "            ## Parcel Location\n",
    "            N = ceil(Int, (pts[1, i] - xmin) / Dx)\n",
    "            M = ceil(Int, (pts[2, i] - ymin) / Dy)\n",
    "            Mevap[N, M] = Mevap[N, M] - mdot[i] * dt\n",
    "            Devap[N, M] = Devap[N, M] + D_d[i]\n",
    "            Tevap[N, M] = Tevap[N, M] + T_d[i] \n",
    "            C[N, M] = C[N, M] + 1\n",
    "        end\n",
    "    end\n",
    "    ## Remove evaporated Particles\n",
    "    pts = pts[:, setdiff(1:end, idxs)]\n",
    "    Vel = Vel[:, setdiff(1:end, idxs)]\n",
    "    D_d = D_d[setdiff(1:end, idxs)]\n",
    "    T_d = T_d[setdiff(1:end, idxs)]\n",
    "    M_d = M_d[setdiff(1:end, idxs)]\n",
    "\n",
    "    return pts, Vel\n",
    "end"
   ]
  },
  {
   "cell_type": "code",
   "execution_count": 61,
   "metadata": {},
   "outputs": [
    {
     "name": "stdout",
     "output_type": "stream",
     "text": [
      "Stokes Number is 0.1\n",
      "diameter: 4.039430652950982e-5\n",
      "density: 1000\n",
      "R is 0.0012\n"
     ]
    }
   ],
   "source": [
    "global μ = 1.813e-5\n",
    "global ρ = 1.2\n",
    "\n",
    "global ρ_d = 1000\n",
    "global d_p = invStokes(0.1)\n",
    "global V_d = (π / 6) * (d_p^3)\n",
    "global m_P = V_d * ρ_d\n",
    "global m_F = V_d * ρ\n",
    "\n",
    "St = round(Stokes(d_p),sigdigits = 3)\n",
    "println(\"Stokes Number is $St\\ndiameter: $d_p\\ndensity: $ρ_d\")\n",
    "Rmaxie = round((ρ / (0.5 * ρ + ρ_d)),sigdigits=3)\n",
    "println(\"R is $Rmaxie\")"
   ]
  },
  {
   "attachments": {},
   "cell_type": "markdown",
   "metadata": {},
   "source": [
    "### Particle Grid"
   ]
  },
  {
   "cell_type": "code",
   "execution_count": 62,
   "metadata": {},
   "outputs": [],
   "source": [
    "p_num = 15000\n",
    "pxs = ones(p_num) * xmin\n",
    "pys = LinRange(ymin, ymax, p_num)\n",
    "points = hcat(pxs, pys)'\n",
    "V0 = vFluid_c(points);"
   ]
  },
  {
   "attachments": {},
   "cell_type": "markdown",
   "metadata": {},
   "source": [
    "### Initialize Variables"
   ]
  },
  {
   "cell_type": "code",
   "execution_count": 63,
   "metadata": {},
   "outputs": [
    {
     "data": {
      "text/plain": [
       "800"
      ]
     },
     "metadata": {},
     "output_type": "display_data"
    }
   ],
   "source": [
    "global dt = 1e-4;\n",
    "global Dx = U0 * dt * 5 ;\n",
    "global Dy = U0 * dt * 5 ;\n",
    "global Nx = ceil(Int, 2 * xmax / Dx);\n",
    "global Ny = ceil(Int, 2 * ymax / Dy)"
   ]
  },
  {
   "cell_type": "code",
   "execution_count": 76,
   "metadata": {},
   "outputs": [],
   "source": [
    "# Particles\n",
    "global D_d = d_p * ones(p_num);\n",
    "global T_d = 300 * ones(p_num);\n",
    "global M_d = @. (d_p^3) * ρ_d *  (π / 6) * ones(p_num);"
   ]
  },
  {
   "attachments": {},
   "cell_type": "markdown",
   "metadata": {},
   "source": [
    "### Integrate"
   ]
  },
  {
   "cell_type": "code",
   "execution_count": 77,
   "metadata": {},
   "outputs": [
    {
     "name": "stdout",
     "output_type": "stream",
     "text": [
      "Simulation from t0=0 to tend=0.8 with dt=0.0001\n",
      "Steps: 8000\n"
     ]
    }
   ],
   "source": [
    "t0 = 0;\n",
    "tend = 2 * (xmax - xmin) / U0\n",
    "timer = t0:dt:tend;\n",
    "println(\"Simulation from t0=$t0 to tend=$tend with dt=$dt\")\n",
    "println(\"Steps: $(round(Int,(tend-t0)/dt))\")"
   ]
  },
  {
   "attachments": {},
   "cell_type": "markdown",
   "metadata": {},
   "source": [
    "## Trajectories"
   ]
  },
  {
   "cell_type": "code",
   "execution_count": 78,
   "metadata": {},
   "outputs": [],
   "source": [
    "trajP_noEvap = RK4systems(dxdtP!, dvdtP_c!, t0, tend, dt, points, V0, [Per_Colisions]);"
   ]
  },
  {
   "cell_type": "code",
   "execution_count": null,
   "metadata": {},
   "outputs": [],
   "source": [
    "saveTrajcecotries([trajP_noEvap], timer, PSI_field_c, colors, markers,\n",
    "            L\"Fluid Trajectories with Evaporation ($ R: %$(Rmaxie): St:%$(St) RH:%$(Hum_rel) $)\", \"Cylinder/Evaporation_R_$(Rmaxie)_St_$(St)_RH_$(Hum_rel)\")"
   ]
  },
  {
   "cell_type": "code",
   "execution_count": 88,
   "metadata": {},
   "outputs": [
    {
     "name": "stdout",
     "output_type": "stream",
     "text": [
      "Stokes Number is 1.0\n",
      "diameter: 0.0052148825490129684\n",
      "density: 0.6\n",
      "R is 1.0\n"
     ]
    }
   ],
   "source": [
    "    global μ = 1.813e-5\n",
    "    global ρ = 1.2\n",
    "\n",
    "    global ρ_d = 0.6\n",
    "    global d_p = invStokes(1)\n",
    "    global V_d = (π / 6) * (d_p^3)\n",
    "    global m_P = V_d * ρ_d\n",
    "    global m_F = V_d * ρ\n",
    "\n",
    "    # Particles\n",
    "    global D_d = d_p * ones(p_num);\n",
    "    global T_d = 300 * ones(p_num);\n",
    "    global M_d = @. (d_p^3) * ρ_d * (π / 6) * ones(p_num);\n",
    "\n",
    "    St = round(Stokes(d_p), sigdigits=3)\n",
    "    println(\"Stokes Number is $St\\ndiameter: $d_p\\ndensity: $ρ_d\")\n",
    "    Rmaxie = round((ρ / (0.5 * ρ + ρ_d)), sigdigits=3)\n",
    "    println(\"R is $Rmaxie\")"
   ]
  },
  {
   "cell_type": "code",
   "execution_count": 90,
   "metadata": {},
   "outputs": [
    {
     "name": "stdout",
     "output_type": "stream",
     "text": [
      "Stokes Number is 0.001\n",
      "diameter: 4.039430652950983e-6\n",
      "density: 1000\n",
      "R is 0.0012\n"
     ]
    },
    {
     "name": "stdout",
     "output_type": "stream",
     "text": [
      "Stokes Number is 0.001\n",
      "diameter: 4.039430652950983e-6\n",
      "density: 1000\n",
      "R is 0.0012\n"
     ]
    }
   ],
   "source": [
    "for number in [0.001,0.5,10]\n",
    "    for rho in [0.01, 1000, 0.6]\n",
    "        global μ = 1.813e-5\n",
    "        global ρ = 1.2\n",
    "\n",
    "        global ρ_d = 1000\n",
    "        global d_p = invStokes(number)\n",
    "        global V_d = (π / 6) * (d_p^3)\n",
    "        global m_P = V_d * ρ_d\n",
    "        global m_F = V_d * ρ\n",
    "\n",
    "        # Particles\n",
    "        global D_d = d_p * ones(p_num);\n",
    "        global T_d = 300 * ones(p_num);\n",
    "        global M_d = @. (d_p^3) * ρ_d * (π / 6) * ones(p_num);\n",
    "\n",
    "        St = round(Stokes(d_p), sigdigits=3)\n",
    "        println(\"Stokes Number is $St\\ndiameter: $d_p\\ndensity: $ρ_d\")\n",
    "        Rmaxie = round((ρ / (0.5 * ρ + ρ_d)), sigdigits=3)\n",
    "        println(\"R is $Rmaxie\")\n",
    "\n",
    "        trajP_noEvap = RK4systems(dxdtP!, dvdtP_c!, t0, tend, dt, points, V0, [Per_Colisions]);\n",
    "        saveTrajcecotries([trajP_noEvap], timer, PSI_field_c, colors, markers,\n",
    "            L\"Fluid Trajectories with Evaporation ($ R: %$(Rmaxie): St:%$(St) RH:%$(Hum_rel) $)\", \"Cylinder/Trajectories_R_$(Rmaxie)_St_$(St)_RH_$(Hum_rel)\")\n",
    "    end\n",
    "end"
   ]
  },
  {
   "attachments": {},
   "cell_type": "markdown",
   "metadata": {},
   "source": [
    "## Evaporation"
   ]
  },
  {
   "cell_type": "code",
   "execution_count": null,
   "metadata": {},
   "outputs": [],
   "source": [
    "# Parcels\n",
    "global Mevap = zeros(Nx, Ny);\n",
    "global Devap = zeros(Nx, Ny);\n",
    "global Tevap = zeros(Nx, Ny);\n",
    "global C = 1e-10 * ones(Nx, Ny);"
   ]
  },
  {
   "cell_type": "code",
   "execution_count": 66,
   "metadata": {},
   "outputs": [
    {
     "data": {
      "text/plain": [
       "485-element Vector{Matrix{Float64}}:\n",
       " [-2.0 -2.0 … -2.0 -2.0; -2.0 -1.9997333155543702 … 1.9997333155543702 2.0]\n",
       " [-1.999000004095607 -1.9990000082654356 … -1.9990000082673534 -1.9990000041009315; -1.9997646184235291 -1.9994979381430442 … 1.9994978408765445 1.9997645211423398]\n",
       " [-1.9980000078408713 -1.9980000161837055 … -1.998000016185692 -1.9980000078459177; -1.9997960176057306 -1.9995293414943598 … 1.9995289549905346 1.9997956310682359]\n",
       " [-1.9970000109270145 -1.997000023439056 … -1.9970000234460232 -1.9970000109228276; -1.9998275114914852 -1.9995608395554685 … 1.9995599756391078 1.9998266475276305]\n",
       " [-1.996000013044887 -1.9960000297282117 … -1.9960000297488674 -1.996000013039364; -1.9998590985043614 -1.9995924307434823 … 1.9995909049726326 1.999857572674867]\n",
       " [-1.9950000138898383 -1.995000034748045 … -1.9950000347840884 -1.9950000138951984; -1.999890777102308 -1.9996241135150654 … 1.9996217451080007 1.9998884086148616]\n",
       " [-1.9940000131630988 -1.994000038203237 … -1.9940000382569416 -1.99400001317707; -1.9999225457689382 -1.9996558863589033 … 1.9996524981126873 1.9999191574255863]\n",
       " [-1.9930000105736312 -1.9930000398018288 … -1.9930000398751555 -1.9930000105968924; -1.9999544030108114 -1.999687747778898 … 1.9996831660155416 1.9999498211470839]\n",
       " [-1.9920000058457128 -1.992000039247615 … -1.9920000393530113 -1.9920000058729823; -1.9999863473676938 -1.999719696314779 … 1.9997137508198097 1.9999804017678695]\n",
       " [-1.991000036260944 -1.9910000738534466 … -1.9910000738580473 -1.9910000364062463; -1.99975173052677 -1.9994850835620572 … 1.999477607353668 1.9997442544891255]\n",
       " ⋮\n",
       " [-1.5226991858405923 -1.5227058265195774 … -1.557275894783216 -1.5572818128504788; -1.9158041420764147 -1.9150124087977014 … -0.35734056953880694 -0.3570648314831368]\n",
       " [-1.5239278209162563 -1.5239342902187203 … -1.5549759079255878 -1.5549825493452092; -1.6970939352998555 -1.6965661722210637 … -0.4179635878468114 -0.4176886214452771]\n",
       " [-1.525229929016182 -1.5252341193170724 … -1.5525629187160837 -1.5525701484003154; -1.532438116755877 -1.5321740397690633 … -0.4770450455851636 -0.47677089885509144]\n",
       " [-1.5265582242217253 -1.5265632497251291 … -1.5500397780199653 -1.5500474647352842; -1.3990643730173422 -1.3987999735400634 … -0.5356788867095618 -0.5354055950232013]\n",
       " [-1.527977540895334 -1.527983395796933 … -1.5474085966868854 -1.5474166599906949; -1.2818904236602737 -1.2816255389968005 … -0.5946779658521942 -0.5944055254590461]\n",
       " [-1.529542557978041 -1.529555745309161 … -1.5445932274529108 -1.5446015033602134; -1.1732178381316347 -1.172686725360567 … -0.6572922815351313 -0.6570207795513535]\n",
       " [-1.5314574121125737 -1.5314647400807542 … -1.5414864288050671 -1.5414948495072054; -1.0626382831919263 -1.0623718358014083 … -0.7275415386581006 -0.72727105184244]\n",
       " [-1.5354495799900665 -1.535490335807023 … -1.536261148437582 -1.536624466117794; -0.8919016248387044 -0.8905603078345786 … -0.8653277499845581 -0.8535064996358933]\n",
       " 2×0 Matrix{Float64}"
      ]
     },
     "metadata": {},
     "output_type": "display_data"
    }
   ],
   "source": [
    "trajP = RK4systems(dxdtP!, dvdtP_c!, t0, tend, dt, points, V0, [Per_Colisions,evaporation]);\n",
    "# trajFlu = RungeKutta(vFluid_c, t0, tend, dt, points, periodic);"
   ]
  },
  {
   "cell_type": "code",
   "execution_count": 73,
   "metadata": {},
   "outputs": [],
   "source": [
    "plotTrajcecotries([trajP], timer, PSI_field_c, colors, markers, \n",
    "            L\"Fluid Trajectories with Evaporation ($ R: %$(Rmaxie): St:%$(St) RH:%$(Hum_rel) $)\")"
   ]
  },
  {
   "cell_type": "code",
   "execution_count": 67,
   "metadata": {},
   "outputs": [
    {
     "data": {
      "text/plain": [
       "\"Cylinder/Evaporation_R_0.0012_St_0.1_RH_0.02.mp4\""
      ]
     },
     "metadata": {},
     "output_type": "display_data"
    }
   ],
   "source": [
    "saveTrajcecotries([trajP], timer, PSI_field_c, colors, markers,\n",
    "            L\"Fluid Trajectories with Evaporation ($ R: %$(Rmaxie): St:%$(St) RH:%$(Hum_rel) $)\", \"Cylinder/Evaporation_R_$(Rmaxie)_St_$(St)_RH_$(Hum_rel)\")"
   ]
  },
  {
   "attachments": {},
   "cell_type": "markdown",
   "metadata": {},
   "source": [
    "# Visualize Parcels"
   ]
  },
  {
   "cell_type": "code",
   "execution_count": 68,
   "metadata": {},
   "outputs": [
    {
     "data": {
      "text/plain": [
       "800-element LinRange{Float64, Int64}:\n",
       " -2.0,-1.99499,-1.98999,-1.98498,…,1.97997,1.98498,1.98999,1.99499,2.0"
      ]
     },
     "metadata": {},
     "output_type": "display_data"
    }
   ],
   "source": [
    "for j in 1:Ny\n",
    "    for i in 1:Nx\n",
    "        Devap[i, j] = Devap[i, j] / C[i, j]\n",
    "        Tevap[i, j] = Tevap[i, j] / C[i, j]\n",
    "        # Mevap[i, j] = Mevap[i, j] / C[i, j]\n",
    "        if C[i, j] == 0\n",
    "            Tevap[i, j] = 300\n",
    "        end\n",
    "    end\n",
    "end\n",
    "x2 = LinRange(xmin, xmax, Nx)\n",
    "y2 = LinRange(ymin, ymax, Ny)"
   ]
  },
  {
   "cell_type": "code",
   "execution_count": 69,
   "metadata": {},
   "outputs": [
    {
     "name": "stdout",
     "output_type": "stream",
     "text": [
      "saving..."
     ]
    }
   ],
   "source": [
    "fig = GLMakie.contourf(x2, y2, Devap, levels=20, color=:plasma, aspect_ratio=:equal, size=(800, 820))\n",
    "print(\"saving...\")\n",
    "save(\"Cylinder/AvDiameter_R_$(Rmaxie)_St_$(St)_RH_$(Hum_rel).png\", fig)"
   ]
  },
  {
   "cell_type": "code",
   "execution_count": 70,
   "metadata": {},
   "outputs": [
    {
     "name": "stdout",
     "output_type": "stream",
     "text": [
      "saving..."
     ]
    }
   ],
   "source": [
    "fig = GLMakie.contourf(x2, y2, Mevap, levels=20, color=:plasma, aspect_ratio=:equal, size=(800, 820))\n",
    "print(\"saving...\")\n",
    "save(\"Cylinder/AvMass_R_$(Rmaxie)_St_$(St)_RH_$(Hum_rel).png\", fig)"
   ]
  },
  {
   "cell_type": "code",
   "execution_count": 71,
   "metadata": {},
   "outputs": [
    {
     "name": "stdout",
     "output_type": "stream",
     "text": [
      "saving..."
     ]
    }
   ],
   "source": [
    "fig = GLMakie.contourf(x2, y2, Tevap, levels=20, color=:plasma, aspect_ratio=:equal, size=(800, 820))\n",
    "print(\"saving...\")\n",
    "save(\"Cylinder/AvTemperature_$(Rmaxie)_St_$(St)_RH_$(Hum_rel).png\", fig)"
   ]
  },
  {
   "cell_type": "code",
   "execution_count": 72,
   "metadata": {},
   "outputs": [],
   "source": []
  }
 ],
 "metadata": {
  "kernelspec": {
   "display_name": "Julia 1.8.0",
   "language": "julia",
   "name": "julia-1.8"
  },
  "language_info": {
   "file_extension": ".jl",
   "mimetype": "application/julia",
   "name": "julia",
   "version": "1.8.0"
  },
  "orig_nbformat": 4,
  "vscode": {
   "interpreter": {
    "hash": "8acd08952dc410be23279ea6eab1a080d514a48a01ad47827aa392f9fbd61ae4"
   }
  }
 },
 "nbformat": 4,
 "nbformat_minor": 2
}
